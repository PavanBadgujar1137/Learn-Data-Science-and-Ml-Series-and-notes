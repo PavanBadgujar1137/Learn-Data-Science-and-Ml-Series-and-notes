{
 "cells": [
  {
   "cell_type": "code",
   "execution_count": 5,
   "id": "344d8ac8-03fc-4b9b-b7ef-9d98c93da407",
   "metadata": {},
   "outputs": [
    {
     "name": "stdout",
     "output_type": "stream",
     "text": [
      "15.0\n",
      "15.0\n"
     ]
    }
   ],
   "source": [
    "# central tendancy: mean, median and mode\n",
    "# mean: average\n",
    "# python\n",
    "number=[5,10,15,20,25]\n",
    "mean=sum(number)/len(number)\n",
    "print(mean)\n",
    "\n",
    "import numpy as np\n",
    "number=np.array([5,10,15,20,25])\n",
    "mean = np.mean(number)\n",
    "print(mean)\n"
   ]
  },
  {
   "cell_type": "code",
   "execution_count": null,
   "id": "517b48f4-8f5e-4e15-ba61-fc99cbaf6f42",
   "metadata": {},
   "outputs": [],
   "source": []
  },
  {
   "cell_type": "code",
   "execution_count": null,
   "id": "7c25301a-b5de-4bdf-b286-01e18bf8c2af",
   "metadata": {},
   "outputs": [],
   "source": []
  },
  {
   "cell_type": "code",
   "execution_count": 7,
   "id": "f85f8dcd-ae4b-4ab0-9aa8-40969002dbf4",
   "metadata": {},
   "outputs": [
    {
     "name": "stdout",
     "output_type": "stream",
     "text": [
      "15\n",
      "17.5\n"
     ]
    }
   ],
   "source": [
    "# Meadian : Middle values in a set of number\n",
    "number = [15,10,5,25,20]\n",
    "number.sort()\n",
    "n=len(number)\n",
    "if n%2 == 0:\n",
    "    median = (number[n//2-1]+number[n//2])/2\n",
    "else:\n",
    "    median=number[n//2]\n",
    "print(median)\n",
    "\n",
    "# by using numpy\n",
    "number = np.array([15,10,5,25,20,30])\n",
    "median= np.median(number)\n",
    "print(median)"
   ]
  },
  {
   "cell_type": "markdown",
   "id": "33aea7b8-3997-44ca-83ef-2c8821e5a65d",
   "metadata": {},
   "source": [
    "# mode : value that appears most frequently:\n",
    "# in by default python "
   ]
  },
  {
   "cell_type": "code",
   "execution_count": 14,
   "id": "7def6c42-36c0-45dd-b59c-3d6ab737b338",
   "metadata": {},
   "outputs": [
    {
     "name": "stdout",
     "output_type": "stream",
     "text": [
      "10\n",
      "10\n"
     ]
    }
   ],
   "source": [
    "from collections import Counter\n",
    "number=[5,10,15,20,10,25]\n",
    "x=Counter(number)\n",
    "mode= x.most_common(1)[0][0]\n",
    "print(mode)\n",
    "\n",
    "# using numpy \n",
    "import numpy as np\n",
    "from scipy import stats\n",
    "number=[5,10,15,20,10,25]\n",
    "mode=stats.mode(number)\n",
    "print(mode.mode)"
   ]
  },
  {
   "cell_type": "code",
   "execution_count": null,
   "id": "c54d4257-5c8c-4123-946d-cf9b1d5fbc20",
   "metadata": {},
   "outputs": [],
   "source": [
    "# range - difference between the maxixmum and minimum value of data set\n"
   ]
  },
  {
   "cell_type": "code",
   "execution_count": 15,
   "id": "2338fab0-ca1d-4069-a4df-40753905795f",
   "metadata": {},
   "outputs": [
    {
     "name": "stdout",
     "output_type": "stream",
     "text": [
      "30\n"
     ]
    }
   ],
   "source": [
    "# using inbuild python\n",
    "scores=[78,89,92,65,74,80,95,88,70,82]\n",
    "range=max(scores)-min(scores)\n",
    "print(range)\n"
   ]
  },
  {
   "cell_type": "code",
   "execution_count": 16,
   "id": "eae5997d-ae2a-4226-a232-ad0d34545bfe",
   "metadata": {},
   "outputs": [
    {
     "name": "stdout",
     "output_type": "stream",
     "text": [
      "30\n"
     ]
    }
   ],
   "source": [
    "# Using numpy\n",
    "import numpy as np \n",
    "scores=[78,89,92,65,74,80,95,88,70,82]\n",
    "range=np.ptp(scores)\n",
    "print(range)"
   ]
  },
  {
   "cell_type": "code",
   "execution_count": 25,
   "id": "221c48d7-2e99-4577-bc09-e79eca511389",
   "metadata": {},
   "outputs": [
    {
     "data": {
      "image/png": "[encoded data removed]",
      "text/plain": [
       "<Figure size 640x480 with 1 Axes>"
      ]
     },
     "metadata": {},
     "output_type": "display_data"
    }
   ],
   "source": [
    "# Using matplotlib (Visulisation)\n",
    "import matplotlib.pyplot as plt\n",
    "data=[4,5,6,6,7,7,7,8,8,8,8,9,9,9,10]\n",
    "plt.hist(data, bins=6, edgecolor='black', alpha=0.7)\n",
    "plt.xlabel('Value')\n",
    "plt.ylabel('frequency')\n",
    "plt.title('Histogram of Data')\n",
    "plt.axvline(x=min(data),color='r', linestyle='dashed' , linewidth=1, label='Min')\n",
    "plt.axvline(x=max(data),color='g', linestyle='dashed' , linewidth=1, label='Max')\n",
    "plt.legend()\n",
    "plt.show()"
   ]
  },
  {
   "cell_type": "code",
   "execution_count": 27,
   "id": "8de95a63-cb2b-47f7-a716-c2aac3243809",
   "metadata": {},
   "outputs": [
    {
     "name": "stdout",
     "output_type": "stream",
     "text": [
      "Standard deviation is : 5.458937625582473\n"
     ]
    }
   ],
   "source": [
    "# standard deviation \n",
    "import statistics\n",
    "scores = [85,90,92,78,88]\n",
    "std=statistics.stdev(scores)\n",
    "print(\"Standard deviation is :\",std)\n"
   ]
  },
  {
   "cell_type": "code",
   "execution_count": 28,
   "id": "033f0700-4b19-4ba1-82ed-3d4f7d90c49e",
   "metadata": {},
   "outputs": [
    {
     "name": "stdout",
     "output_type": "stream",
     "text": [
      "111.80339887498948\n"
     ]
    }
   ],
   "source": [
    "# exam 2\n",
    "exp =[600,750,800,700,900]\n",
    "stdev=statistics.stdev(exp)\n",
    "print(stdev)"
   ]
  },
  {
   "cell_type": "code",
   "execution_count": 31,
   "id": "ff786e0e-1f91-4159-82b7-898d13de6039",
   "metadata": {},
   "outputs": [
    {
     "name": "stdout",
     "output_type": "stream",
     "text": [
      "the 90th percentile is : {percent}\n"
     ]
    }
   ],
   "source": [
    "# percentile\n",
    "import numpy as np\n",
    "data =[65,70,75,80,85,90,95,100]\n",
    "percent=np.percentile(data,90)\n",
    "print(\"the 90th percentile is : {percent}\")"
   ]
  }
 ],
 "metadata": {
  "kernelspec": {
   "display_name": "Python 3 (ipykernel)",
   "language": "python",
   "name": "python3"
  },
  "language_info": {
   "codemirror_mode": {
    "name": "ipython",
    "version": 3
   },
   "file_extension": ".py",
   "mimetype": "text/x-python",
   "name": "python",
   "nbconvert_exporter": "python",
   "pygments_lexer": "ipython3",
   "version": "3.11.7"
  }
 },
 "nbformat": 4,
 "nbformat_minor": 5
}
